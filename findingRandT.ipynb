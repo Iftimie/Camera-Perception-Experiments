{
 "cells": [
  {
   "cell_type": "code",
   "execution_count": 57,
   "metadata": {},
   "outputs": [],
   "source": [
    "import numpy as np\n",
    "from scipy.stats import special_ortho_group\n",
    "np.set_printoptions(suppress = True, precision = 4)\n",
    "\n",
    "p1 = [[1, 2, 3   ],\n",
    "      [4, 5, 6   ],\n",
    "      [7, 8, 9   ],\n",
    "      [10, 11, 12],\n",
    "      [13, 14, 15],\n",
    "      [16, 17, 18],\n",
    "      [19, 20, 21],\n",
    "      [22, 23, 24],\n",
    "      [25, 26, 27],\n",
    "      [28, 29, 30],\n",
    "      [31, 32, 33],\n",
    "      [34, 35, 36]]\n",
    "#p1 = p1[:6]\n",
    "p1 = np.array(p1).T\n",
    "R = special_ortho_group.rvs(3)\n",
    "T = np.zeros((3,1)) * 10\n",
    "p2 = R.dot(p1) + T"
   ]
  },
  {
   "cell_type": "code",
   "execution_count": 61,
   "metadata": {},
   "outputs": [],
   "source": [
    "def get_A(p1, p2):\n",
    "    n = p1.shape[1]\n",
    "    A = np.zeros((3 * n, 12))\n",
    "    for i in range(n):\n",
    "        p1_i = p1[:,i]\n",
    "        p2_i = p2[:,i]\n",
    "        \n",
    "        x1 = p1_i[0]\n",
    "        y1 = p1_i[1]\n",
    "        z1 = p1_i[2]\n",
    "        x2 = p2_i[0]\n",
    "        y2 = p2_i[1]\n",
    "        z2 = p2_i[2]\n",
    "        \n",
    "        a1 = [0       , 0       , 0       , -z2* x1, -z2*y1 , -z2 *z1, y2 * x1, y2 * y1 , y2 * z1, 0  , -z2, y2  ]\n",
    "        a2 = [z2* x1  , z2*y1   , z2*z1   , 0      , 0      , 0      , -x2*x1 , -x2 * y1, -x2* z1, z2 , 0  , -x2 ]\n",
    "        a3 = [-y2 * x1, -y2 * y1, -y2 * z1, x2 * x1, x2 * y1, x2 * z1, 0      ,   0     ,  0     , -y2, x2 , 0   ]\n",
    "        a1 = np.array(a1)\n",
    "        a2 = np.array(a2)\n",
    "        a3 = np.array(a3)\n",
    "        A[i*3 + 0, :] = a1\n",
    "        A[i*3 + 1, :] = a2\n",
    "        A[i*3 + 2, :] = a3\n",
    "    return A\n",
    "\n",
    "def solve(A):\n",
    "    u, s, vh = np.linalg.svd(A, full_matrices=True)\n",
    "    v = vh.T\n",
    "    last_col_of_v = v[:, -1]\n",
    "    R = last_col_of_v[:9].reshape((3,3))\n",
    "    T = last_col_of_v[9:12].reshape((3,1))\n",
    "    return R, T"
   ]
  },
  {
   "cell_type": "code",
   "execution_count": 62,
   "metadata": {},
   "outputs": [
    {
     "name": "stdout",
     "output_type": "stream",
     "text": [
      "R_gt\n",
      "[[ 0.8399  0.3627  0.4038]\n",
      " [ 0.5381 -0.6536 -0.5321]\n",
      " [ 0.0709  0.6642 -0.7442]]\n",
      "R_est\n",
      "[[ 0.4743 -0.6778  0.0609]\n",
      " [ 0.1676 -0.1431  0.033 ]\n",
      " [ 0.0036 -0.0069  0.0041]]\n",
      "t_gt\n",
      "[[0.]\n",
      " [0.]\n",
      " [0.]]\n",
      "t_est\n",
      "[[0.4521]\n",
      " [0.2296]\n",
      " [0.0719]]\n",
      "565.9427397247459\n"
     ]
    }
   ],
   "source": [
    "A = get_A(p1, p2)\n",
    "R_est, T_est = solve(A)\n",
    "print \"R_gt\"\n",
    "print R\n",
    "print \"R_est\"\n",
    "print R_est\n",
    "\n",
    "print \"t_gt\"\n",
    "print T\n",
    "print \"t_est\"\n",
    "print T_est\n",
    "\n",
    "p_2 = R_est.dot(p1) + T_est\n",
    "print np.sum(np.abs(p_2 - p2))"
   ]
  },
  {
   "cell_type": "code",
   "execution_count": null,
   "metadata": {},
   "outputs": [],
   "source": []
  },
  {
   "cell_type": "code",
   "execution_count": null,
   "metadata": {},
   "outputs": [],
   "source": []
  }
 ],
 "metadata": {
  "kernelspec": {
   "display_name": "Python 2",
   "language": "python",
   "name": "python2"
  },
  "language_info": {
   "codemirror_mode": {
    "name": "ipython",
    "version": 2
   },
   "file_extension": ".py",
   "mimetype": "text/x-python",
   "name": "python",
   "nbconvert_exporter": "python",
   "pygments_lexer": "ipython2",
   "version": "2.7.13"
  }
 },
 "nbformat": 4,
 "nbformat_minor": 2
}
