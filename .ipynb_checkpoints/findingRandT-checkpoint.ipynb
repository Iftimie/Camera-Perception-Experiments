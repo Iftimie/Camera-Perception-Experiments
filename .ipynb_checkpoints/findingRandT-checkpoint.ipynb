{
 "cells": [
  {
   "cell_type": "code",
   "execution_count": 4,
   "metadata": {},
   "outputs": [],
   "source": [
    "import numpy as np\n",
    "from scipy.stats import special_ortho_group\n",
    "\n",
    "p1 = [[1, 2, 3   ],\n",
    "      [4, 5, 6   ],\n",
    "      [7, 8, 9   ],\n",
    "      [10, 11, 12],\n",
    "      [13, 14, 15],\n",
    "      [16, 17, 18]]\n",
    "\n",
    "p1 = np.array(p1).T\n",
    "R = special_ortho_group.rvs(3)\n",
    "T = np.zeros((3,1))\n",
    "p2 = R.dot(p1) + T"
   ]
  },
  {
   "cell_type": "code",
   "execution_count": null,
   "metadata": {},
   "outputs": [],
   "source": [
    "def get_A(p1, p2):\n",
    "    n = p1.shape[1]\n",
    "    A = np.zeros((3 * n, 12))\n",
    "    for i in range(n):\n",
    "        p1_i = p1[:,n]\n",
    "        p2_i = p2[:,n]\n",
    "        \n",
    "        x1 = p1_i[0]\n",
    "        y1 = p1_i[1]\n",
    "        z1 = p1_i[2]\n",
    "        x2 = p2_i[0]\n",
    "        y1 = p2_i[1]\n",
    "        z1 = p2_i[2]\n",
    "        \n",
    "        a1 = [0       , 0       , 0       , -z2* x1, -z2*y1 , -z2 *z1, y2 * x1, y2 * y1 , y2 * z1, 0  , -z2, y2  ]\n",
    "        a2 = [z2* x1  , z2*y1   , z2*z1   , 0      , 0      , 0      , -x2*x1 , -x2 * y1, -x2* z1, z2 , 0  , -x2 ]\n",
    "        a3 = [-y2 * x1, -y2 * y1, -y2 * z1, x2 * x1, x2 * y1, x2 * z1, 0      ,   0     ,  0     , -y2, x2 , 0   ]\n",
    "        a1 = np.array(a1)\n",
    "        a2 = np."
   ]
  }
 ],
 "metadata": {
  "kernelspec": {
   "display_name": "Python 2",
   "language": "python",
   "name": "python2"
  },
  "language_info": {
   "codemirror_mode": {
    "name": "ipython",
    "version": 2
   },
   "file_extension": ".py",
   "mimetype": "text/x-python",
   "name": "python",
   "nbconvert_exporter": "python",
   "pygments_lexer": "ipython2",
   "version": "2.7.13"
  }
 },
 "nbformat": 4,
 "nbformat_minor": 2
}
