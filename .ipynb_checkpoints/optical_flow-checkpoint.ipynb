{
 "cells": [
  {
   "cell_type": "code",
   "execution_count": 13,
   "metadata": {},
   "outputs": [
    {
     "data": {
      "image/png": "[encoded data removed]",
      "text/plain": [
       "<Figure size 432x288 with 2 Axes>"
      ]
     },
     "metadata": {},
     "output_type": "display_data"
    }
   ],
   "source": [
    "import numpy as np\n",
    "\n",
    "constant = np.zeros((30,30), np.float32)\n",
    "constant[13:17,13:17] = np.ones((4,4), np.float32)\n",
    "\n",
    "measurement = np.zeros((30,30), np.float32)\n",
    "measurement[17:21,17:21] = np.ones((4,4), np.float32)\n",
    "\n",
    "from matplotlib import pyplot as plt\n",
    "#grid with one row, two columns and the index is 1 in this grid\n",
    "plt.subplot(121)\n",
    "plt.imshow(constant)\n",
    "#grid with one row, two columns and the index is 2 in this grid\n",
    "plt.subplot(122)\n",
    "plt.imshow(measurement)\n",
    "plt.gca().invert_yaxis()\n",
    "plt.show()"
   ]
  },
  {
   "cell_type": "code",
   "execution_count": 100,
   "metadata": {},
   "outputs": [],
   "source": [
    "x = np.array([0,0]) #the displacement\n",
    "def f(constant_value, x):\n",
    "    measurement_estimated = np.zeros(constant_value.shape, np.float32)\n",
    "    x_ = int(x[0])\n",
    "    y_ = int(x[1])\n",
    "    #print \"x_\", x_, \"y_\", y_\n",
    "    for i in range(constant_value.shape[0]):\n",
    "        for j in range(constant_value.shape[1]):    \n",
    "            i_idx = max(0, min(constant_value.shape[0]-1, i-y_))\n",
    "            j_idx = max(0, min(constant_value.shape[1]-1, j-x_))\n",
    "            measurement_estimated[i,j] = constant_value[i_idx,j_idx]\n",
    "    return measurement_estimated\n",
    "\n",
    "m =f(constant, x)"
   ]
  },
  {
   "cell_type": "code",
   "execution_count": 101,
   "metadata": {},
   "outputs": [],
   "source": [
    "from scipy import signal\n",
    "def computeJmatrix(measurement, x):\n",
    "    #unreferenced parameter x\n",
    "    x_op = np.array([[ -1, 0, 1],\n",
    "                       [ -1, 0, 1],\n",
    "                       [ -1, 0, 1]])\n",
    "    y_op = x_op.T\n",
    "    grad_x = signal.convolve2d(measurement, x_op, boundary='symm', mode='same')\n",
    "    grad_y = signal.convolve2d(measurement, y_op, boundary='symm', mode='same')\n",
    "    n = measurement.shape[0] * measurement.shape[1]\n",
    "    J = np.zeros((n, 2))\n",
    "    J[:,0] = grad_x.flatten()\n",
    "    J[:,1] = grad_y.flatten()\n",
    "    return J\n",
    "\n",
    "def computeJTensor(measurement, x):\n",
    "    #unreferenced parameter x\n",
    "    x_op = np.array([[ -1, 0, 1],\n",
    "                       [ -1, 0, 1],\n",
    "                       [ -1, 0, 1]])\n",
    "    y_op = x_op.T\n",
    "    grad_x = signal.convolve2d(measurement, x_op, boundary='symm', mode='same')\n",
    "    grad_y = signal.convolve2d(measurement, y_op, boundary='symm', mode='same')\n",
    "    n = measurement.shape[0] * measurement.shape[1]\n",
    "    J = np.zeros((2, measurement.shape[0], measurement.shape[1]))\n",
    "    J[0,...] = grad_x\n",
    "    J[0,...] = grad_y\n",
    "    return J\n",
    "\n",
    "J_m = computeJmatrix(measurement, x)\n",
    "J_t = computeJTensor(measurement, x)"
   ]
  },
  {
   "cell_type": "code",
   "execution_count": 102,
   "metadata": {},
   "outputs": [],
   "source": [
    "def computeDXmatrix(J, constant_value, fx):\n",
    "    dx = (J.T.dot(J))\n",
    "    #print \"dx computeDXmatrix\",dx\n",
    "    dx = np.linalg.inv(dx)\n",
    "    dx = dx.dot(J.T)\n",
    "    difference = constant_value -fx\n",
    "    dx = dx.dot(difference.flatten())\n",
    "    return dx\n",
    "\n",
    "def computeDXtensor(J, constant_value, fx):\n",
    "    #J has shape   2xNxM\n",
    "    #J.T has shape MxNx2\n",
    "    #I want output shape 2x2\n",
    "    #https://docs.scipy.org/doc/numpy/reference/generated/numpy.tensordot.html#numpy.tensordot\n",
    "    # I want the summation to be on axis 1 and 2 in order to reduce them\n",
    "    #dx = np.tensordot(J.T,J,axes=([1,0],[1,2]))\n",
    "    dx = np.tensordot(J,J,axes=([2 ,1],[2, 1]))\n",
    "    #print \"dx computeDXtensor\",dx\n",
    "    dx = np.linalg.inv(dx)\n",
    "    dx = dx.dot(J.T)\n",
    "    difference = constant_value -fx\n",
    "    dx = dx.dot(difference.flatten())\n",
    "    return dx\n",
    "\n",
    "fx = f(constant, x)\n",
    "dx = computeDXmatrix(J_m, constant, fx)\n",
    "#dx = computeDXtensor(J_t, constant, fx)"
   ]
  },
  {
   "cell_type": "code",
   "execution_count": 125,
   "metadata": {},
   "outputs": [
    {
     "name": "stdout",
     "output_type": "stream",
     "text": [
      "5.04000020027\n",
      "[4.017857 4.017857]\n"
     ]
    }
   ],
   "source": [
    "def optimise(constant_value, measurement, alpha = 1.0):\n",
    "    x0 = np.array([0,0], np.float32)\n",
    "    for i in range(10):\n",
    "        J = computeJmatrix(measurement, x0)\n",
    "        fx = f(constant_value, x0)\n",
    "        dx = computeDX(J, measurement, fx)\n",
    "        x0 += dx * alpha\n",
    "        E = measurement - fx\n",
    "        if np.sum(np.abs(E)) <2:\n",
    "            #print \"broke at \", i\n",
    "            break\n",
    "    return x0\n",
    "\n",
    "import time\n",
    "\n",
    "start = time.time()\n",
    "for i in range(1000):\n",
    "    x0 = optimise(constant, measurement,alpha = 50.0)\n",
    "end = time.time()\n",
    "print(end - start)\n",
    "print x0"
   ]
  },
  {
   "cell_type": "code",
   "execution_count": null,
   "metadata": {},
   "outputs": [],
   "source": []
  }
 ],
 "metadata": {
  "kernelspec": {
   "display_name": "Python 2",
   "language": "python",
   "name": "python2"
  },
  "language_info": {
   "codemirror_mode": {
    "name": "ipython",
    "version": 2
   },
   "file_extension": ".py",
   "mimetype": "text/x-python",
   "name": "python",
   "nbconvert_exporter": "python",
   "pygments_lexer": "ipython2",
   "version": "2.7.13"
  }
 },
 "nbformat": 4,
 "nbformat_minor": 2
}
