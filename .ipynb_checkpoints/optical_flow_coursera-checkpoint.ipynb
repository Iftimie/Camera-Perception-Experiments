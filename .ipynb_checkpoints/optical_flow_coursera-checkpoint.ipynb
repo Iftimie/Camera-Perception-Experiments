{
 "cells": [
  {
   "cell_type": "code",
   "execution_count": 40,
   "metadata": {},
   "outputs": [
    {
     "data": {
      "image/png": "[encoded data removed]",
      "text/plain": [
       "<Figure size 432x288 with 3 Axes>"
      ]
     },
     "metadata": {},
     "output_type": "display_data"
    }
   ],
   "source": [
    "import numpy as np\n",
    "\n",
    "constant = np.zeros((30,30), np.float32)\n",
    "constant[13:17,13:17] = np.ones((4,4), np.float32)\n",
    "\n",
    "measurement = np.zeros((30,30), np.float32)\n",
    "measurement[17:21,17:21] = np.ones((4,4), np.float32)\n",
    "\n",
    "from matplotlib import pyplot as plt\n",
    "plt.clf()\n",
    "#grid with one row, two columns and the index is 1 in this grid\n",
    "plt.subplot(131)\n",
    "plt.imshow(constant)\n",
    "plt.gca().invert_yaxis()\n",
    "#grid with one row, two columns and the index is 2 in this grid\n",
    "plt.subplot(132)\n",
    "plt.imshow(measurement)\n",
    "plt.gca().invert_yaxis()\n",
    "#grid with one row, two columns and the index is 3 in this grid\n",
    "plt.subplot(133)\n",
    "plt.imshow(constant - measurement)\n",
    "plt.gca().invert_yaxis()\n",
    "plt.show()"
   ]
  },
  {
   "cell_type": "code",
   "execution_count": 50,
   "metadata": {},
   "outputs": [
    {
     "name": "stdout",
     "output_type": "stream",
     "text": [
      "5.14599990845\n",
      "[[-3.21428571]\n",
      " [-3.21428571]]\n"
     ]
    }
   ],
   "source": [
    "from scipy import signal\n",
    "\n",
    "def computeJ(measurement):\n",
    "    x_op = np.array([[ -1, 0, 1],\n",
    "                       [ -1, 0, 1],\n",
    "                       [ -1, 0, 1]])\n",
    "    y_op = x_op.T\n",
    "    grad_x = signal.convolve2d(measurement, x_op, boundary='symm', mode='same')\n",
    "    grad_y = signal.convolve2d(measurement, y_op, boundary='symm', mode='same')\n",
    "    return (grad_x, grad_y)\n",
    "\n",
    "def computeDX(J, E):\n",
    "    J_x, J_y = J[0], J[1]\n",
    "    J_xx = J_x * J_x\n",
    "    J_xy = J_x * J_y\n",
    "    J_yx = J_xy\n",
    "    J_yy = J_y * J_y\n",
    "    M = np.array([[np.sum(J_xx),np.sum(J_xy)],\n",
    "                  [np.sum(J_yx),np.sum(J_yy)]])\n",
    "    J_x_E = J_x * E\n",
    "    J_y_E = J_y * E\n",
    "    b = np.array([[np.sum(J_x_E)],\n",
    "                  [np.sum(J_y_E)]])\n",
    "    dx= np.linalg.inv(M).dot(b)\n",
    "    return dx\n",
    "   \n",
    "def shiftMeasurement(measurement,x):\n",
    "    measurement_shifted = np.zeros(measurement.shape, np.float32)\n",
    "    x_ = int(x[0])\n",
    "    y_ = int(x[1])\n",
    "    #print \"x_\", x_, \"y_\", y_\n",
    "    for i in range(measurement.shape[0]):\n",
    "        for j in range(measurement.shape[1]):    \n",
    "            i_idx = max(0, min(measurement.shape[0]-1, i-y_))\n",
    "            j_idx = max(0, min(measurement.shape[1]-1, j-x_))\n",
    "            measurement_shifted[i,j] = measurement[i_idx,j_idx]\n",
    "    return measurement_shifted\n",
    "    \n",
    "def optimise(constant, measurement, alpha = 1.0):\n",
    "    #compute error\n",
    "    #coursera Optical Flow: 2D Point Correspondences minute 17:20\n",
    "    x0 = np.array([[0.0],[0.0]])\n",
    "    for i in range(20):\n",
    "        E = constant - measurement\n",
    "        J = computeJ(measurement)\n",
    "        dx = computeDX(J, E)\n",
    "        #print \"x0 \", x0.T, \" dx \", dx.T, \" E \", np.sum(np.abs(E))\n",
    "        x0 +=dx * alpha\n",
    "        measurement = shiftMeasurement(measurement,x0)\n",
    "        if np.sum(np.abs(E)) <2:\n",
    "            #print \"broke at \", i\n",
    "            break\n",
    "    return x0\n",
    "    \n",
    "\n",
    "import time\n",
    "\n",
    "start = time.time()\n",
    "for i in range(1000):\n",
    "    d = optimise(constant, measurement, alpha = 40.0)\n",
    "end = time.time()\n",
    "print(end - start)\n",
    "print d"
   ]
  },
  {
   "cell_type": "code",
   "execution_count": 43,
   "metadata": {},
   "outputs": [
    {
     "data": {
      "text/plain": [
       "'\\nin optimise if we do not break when error reaches a certain treshold it can go in cycles like this:\\nx0  [[0. 0.]]  dx  [[-0.00892857 -0.00892857]]  E  32.0\\nx0  [[-0.35714286 -0.35714286]]  dx  [[-0.00892857 -0.00892857]]  E  32.0\\nx0  [[-0.71428571 -0.71428571]]  dx  [[-0.00892857 -0.00892857]]  E  32.0\\nx0  [[-1.07142857 -1.07142857]]  dx  [[-0.05357143 -0.05357143]]  E  30.0\\nx0  [[-3.21428571 -3.21428571]]  dx  [[0. 0.]]  E  0.0\\nx0  [[-3.21428571 -3.21428571]]  dx  [[0.05357143 0.05357143]]  E  30.0\\nx0  [[-1.07142857 -1.07142857]]  dx  [[0.00892857 0.00892857]]  E  32.0\\nx0  [[-0.71428571 -0.71428571]]  dx  [[0.00892857 0.00892857]]  E  32.0\\nx0  [[-0.35714286 -0.35714286]]  dx  [[0.00892857 0.00892857]]  E  32.0\\nx0  [[1.11022302e-16 1.11022302e-16]]  dx  [[0.00892857 0.00892857]]  E  32.0\\nx0  [[0.35714286 0.35714286]]  dx  [[0.00892857 0.00892857]]  E  32.0\\nx0  [[0.71428571 0.71428571]]  dx  [[0.00892857 0.00892857]]  E  32.0\\nx0  [[1.07142857 1.07142857]]  dx  [[0.05357143 0.05357143]]  E  30.0\\nx0  [[3.21428571 3.21428571]]  dx  [[0. 0.]]  E  0.0\\nx0  [[3.21428571 3.21428571]]  dx  [[-0.05357143 -0.05357143]]  E  30.0\\nx0  [[1.07142857 1.07142857]]  dx  [[-0.00892857 -0.00892857]]  E  32.0\\nx0  [[0.71428571 0.71428571]]  dx  [[-0.00892857 -0.00892857]]  E  32.0\\nx0  [[0.35714286 0.35714286]]  dx  [[-0.00892857 -0.00892857]]  E  32.0\\nx0  [[3.33066907e-16 3.33066907e-16]]  dx  [[-0.00892857 -0.00892857]]  E  32.0\\nx0  [[-0.35714286 -0.35714286]]  dx  [[-0.00892857 -0.00892857]]  E  32.0\\n[[-0.71428571]\\n [-0.71428571]]\\n'"
      ]
     },
     "execution_count": 43,
     "metadata": {},
     "output_type": "execute_result"
    }
   ],
   "source": [
    "\"\"\"\n",
    "in optimise if we do not break when error reaches a certain treshold it can go in cycles like this:\n",
    "x0  [[0. 0.]]  dx  [[-0.00892857 -0.00892857]]  E  32.0\n",
    "x0  [[-0.35714286 -0.35714286]]  dx  [[-0.00892857 -0.00892857]]  E  32.0\n",
    "x0  [[-0.71428571 -0.71428571]]  dx  [[-0.00892857 -0.00892857]]  E  32.0\n",
    "x0  [[-1.07142857 -1.07142857]]  dx  [[-0.05357143 -0.05357143]]  E  30.0\n",
    "x0  [[-3.21428571 -3.21428571]]  dx  [[0. 0.]]  E  0.0\n",
    "x0  [[-3.21428571 -3.21428571]]  dx  [[0.05357143 0.05357143]]  E  30.0\n",
    "x0  [[-1.07142857 -1.07142857]]  dx  [[0.00892857 0.00892857]]  E  32.0\n",
    "x0  [[-0.71428571 -0.71428571]]  dx  [[0.00892857 0.00892857]]  E  32.0\n",
    "x0  [[-0.35714286 -0.35714286]]  dx  [[0.00892857 0.00892857]]  E  32.0\n",
    "x0  [[1.11022302e-16 1.11022302e-16]]  dx  [[0.00892857 0.00892857]]  E  32.0\n",
    "x0  [[0.35714286 0.35714286]]  dx  [[0.00892857 0.00892857]]  E  32.0\n",
    "x0  [[0.71428571 0.71428571]]  dx  [[0.00892857 0.00892857]]  E  32.0\n",
    "x0  [[1.07142857 1.07142857]]  dx  [[0.05357143 0.05357143]]  E  30.0\n",
    "x0  [[3.21428571 3.21428571]]  dx  [[0. 0.]]  E  0.0\n",
    "x0  [[3.21428571 3.21428571]]  dx  [[-0.05357143 -0.05357143]]  E  30.0\n",
    "x0  [[1.07142857 1.07142857]]  dx  [[-0.00892857 -0.00892857]]  E  32.0\n",
    "x0  [[0.71428571 0.71428571]]  dx  [[-0.00892857 -0.00892857]]  E  32.0\n",
    "x0  [[0.35714286 0.35714286]]  dx  [[-0.00892857 -0.00892857]]  E  32.0\n",
    "x0  [[3.33066907e-16 3.33066907e-16]]  dx  [[-0.00892857 -0.00892857]]  E  32.0\n",
    "x0  [[-0.35714286 -0.35714286]]  dx  [[-0.00892857 -0.00892857]]  E  32.0\n",
    "[[-0.71428571]\n",
    " [-0.71428571]]\n",
    "\"\"\""
   ]
  },
  {
   "cell_type": "code",
   "execution_count": null,
   "metadata": {},
   "outputs": [],
   "source": []
  }
 ],
 "metadata": {
  "kernelspec": {
   "display_name": "Python 2",
   "language": "python",
   "name": "python2"
  },
  "language_info": {
   "codemirror_mode": {
    "name": "ipython",
    "version": 2
   },
   "file_extension": ".py",
   "mimetype": "text/x-python",
   "name": "python",
   "nbconvert_exporter": "python",
   "pygments_lexer": "ipython2",
   "version": "2.7.13"
  }
 },
 "nbformat": 4,
 "nbformat_minor": 2
}
